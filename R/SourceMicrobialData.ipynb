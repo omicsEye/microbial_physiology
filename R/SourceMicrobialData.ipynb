{
 "cells": [
  {
   "cell_type": "markdown",
   "metadata": {},
   "source": [
    "# Source Microbial Physiology Data\n",
    "### A tool created to retrieve microbial physiology data \n",
    "### Uses online sources [ProTraits](http://protraits.irb.hr) and [BacDive](https://bacdive.dsmz.de)\n",
    "### Combines both of their data into a single formated table"
   ]
  },
  {
   "cell_type": "code",
   "execution_count": 1,
   "metadata": {
    "scrolled": false
   },
   "outputs": [
    {
     "name": "stderr",
     "output_type": "stream",
     "text": [
      "Loading required package: bitops\n"
     ]
    }
   ],
   "source": [
    "source('CleanProTrait.R')\n",
    "source('BacDiveAPICrawler.R')\n",
    "source('CombineData.R')"
   ]
  },
  {
   "cell_type": "code",
   "execution_count": 2,
   "metadata": {},
   "outputs": [
    {
     "name": "stderr",
     "output_type": "stream",
     "text": [
      "Began ProTrait extraction\n",
      "Cleaned 500 / 3046 rows ...\n",
      "Cleaned 1000 / 3046 rows ...\n",
      "Cleaned 1500 / 3046 rows ...\n",
      "Cleaned 2000 / 3046 rows ...\n",
      "Cleaned 2500 / 3046 rows ...\n",
      "Cleaned 3000 / 3046 rows ...\n",
      "Completed pro trait data grab\n"
     ]
    }
   ],
   "source": [
    "# retrieve data from ProTrait database\n",
    "protrait_table <- CleanProTrait()"
   ]
  },
  {
   "cell_type": "code",
   "execution_count": 4,
   "metadata": {},
   "outputs": [
    {
     "name": "stderr",
     "output_type": "stream",
     "text": [
      "Gathered 100 additional results\n",
      "Gathered 100 additional results\n",
      "Gathered 100 additional results\n",
      "Gathered 100 additional results\n",
      "Gathered 100 additional results\n",
      "Gathered 100 additional results\n",
      "Gathered 100 additional results\n",
      "Gathered 100 additional results\n",
      "Gathered 100 additional results\n",
      "Gathered 100 additional results\n",
      "Gathered 100 additional results\n",
      "Gathered 100 additional results\n",
      "Gathered 100 additional results\n",
      "Gathered 100 additional results\n",
      "Gathered 100 additional results\n",
      "Gathered 100 additional results\n",
      "Gathered 100 additional results\n",
      "Gathered 100 additional results\n",
      "Gathered 100 additional results\n",
      "Gathered 100 additional results\n",
      "Gathered 100 additional results\n",
      "Gathered 100 additional results\n",
      "Gathered 100 additional results\n",
      "Gathered 100 additional results\n",
      "Gathered 100 additional results\n",
      "Gathered 100 additional results\n",
      "Gathered 100 additional results\n",
      "Gathered 100 additional results\n",
      "Gathered 100 additional results\n",
      "Gathered 100 additional results\n",
      "Gathered 100 additional results\n"
     ]
    }
   ],
   "source": [
    "# retrieve data from BacDive database\n",
    "bacdive_table <- BacDiveCrawler('mbarbini@broadinstitute.org', 'trellointeractions')"
   ]
  },
  {
   "cell_type": "code",
   "execution_count": 5,
   "metadata": {},
   "outputs": [
    {
     "ename": "ERROR",
     "evalue": "Error in CombineData(protrait_table, bacdive_table): object 'bacdive_table' not found\n",
     "output_type": "error",
     "traceback": [
      "Error in CombineData(protrait_table, bacdive_table): object 'bacdive_table' not found\nTraceback:\n",
      "1. CombineData(protrait_table, bacdive_table)"
     ]
    }
   ],
   "source": [
    "# combine ProTrait and BacDive database\n",
    "combine_table <- CombineData(protrait_table, bacdive_table)"
   ]
  }
 ],
 "metadata": {
  "kernelspec": {
   "display_name": "R",
   "language": "R",
   "name": "ir"
  },
  "language_info": {
   "codemirror_mode": "r",
   "file_extension": ".r",
   "mimetype": "text/x-r-source",
   "name": "R",
   "pygments_lexer": "r",
   "version": "3.6.0"
  }
 },
 "nbformat": 4,
 "nbformat_minor": 2
}
